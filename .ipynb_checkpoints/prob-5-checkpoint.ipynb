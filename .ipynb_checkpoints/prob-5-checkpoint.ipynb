{
 "cells": [
  {
   "cell_type": "code",
   "execution_count": 1,
   "metadata": {},
   "outputs": [],
   "source": [
    "import numpy as np\n",
    "import matplotlib.pyplot as plt\n",
    "from astropy import constants, units"
   ]
  },
  {
   "cell_type": "code",
   "execution_count": 2,
   "metadata": {},
   "outputs": [],
   "source": [
    "V_S = 100 * units.km / units.s\n",
    "n0 = 1e2 * units.cm**-3\n",
    "nS = n0*4\n",
    "uS = 1/4*V_S"
   ]
  },
  {
   "cell_type": "code",
   "execution_count": 3,
   "metadata": {},
   "outputs": [],
   "source": [
    "M = 1 * units.u\n",
    "mu = 1\n",
    "T_S = 3 * mu * M / (16 * constants.k_B) * V_S**2"
   ]
  },
  {
   "cell_type": "code",
   "execution_count": 4,
   "metadata": {},
   "outputs": [
    {
     "data": {
      "text/latex": [
       "$225510.67 \\; \\mathrm{K}$"
      ],
      "text/plain": [
       "<Quantity 225510.66562718 K>"
      ]
     },
     "execution_count": 4,
     "metadata": {},
     "output_type": "execute_result"
    }
   ],
   "source": [
    "T_S.decompose()"
   ]
  },
  {
   "cell_type": "code",
   "execution_count": 5,
   "metadata": {},
   "outputs": [],
   "source": [
    "E = 3 * constants.k_B * T_S * nS"
   ]
  },
  {
   "cell_type": "code",
   "execution_count": 6,
   "metadata": {},
   "outputs": [
    {
     "data": {
      "text/latex": [
       "$3.7362129 \\times 10^{-8} \\; \\mathrm{\\frac{erg}{cm^{3}}}$"
      ],
      "text/plain": [
       "<Quantity 3.7362129e-08 erg / cm3>"
      ]
     },
     "execution_count": 6,
     "metadata": {},
     "output_type": "execute_result"
    }
   ],
   "source": [
    "E.to('erg/cm**3')"
   ]
  },
  {
   "cell_type": "code",
   "execution_count": 7,
   "metadata": {},
   "outputs": [
    {
     "data": {
      "text/latex": [
       "$1.6 \\times 10^{-27} \\; \\mathrm{\\frac{erg}{s\\,cm^{3}}}$"
      ],
      "text/plain": [
       "<Quantity 1.6e-27 erg / (cm3 s)>"
      ]
     },
     "execution_count": 7,
     "metadata": {},
     "output_type": "execute_result"
    }
   ],
   "source": [
    "dEdt = 1e-32 * nS**2 * units.erg * units.cm**3 / units.s\n",
    "dEdt"
   ]
  },
  {
   "cell_type": "code",
   "execution_count": 8,
   "metadata": {},
   "outputs": [],
   "source": [
    "tC = E / dEdt"
   ]
  },
  {
   "cell_type": "code",
   "execution_count": 9,
   "metadata": {},
   "outputs": [
    {
     "data": {
      "text/latex": [
       "$739.95902 \\; \\mathrm{Gyr}$"
      ],
      "text/plain": [
       "<Quantity 739.95901539 Gyr>"
      ]
     },
     "execution_count": 9,
     "metadata": {},
     "output_type": "execute_result"
    }
   ],
   "source": [
    "# tC = 2.6*10**12 * units.s\n",
    "tC.to('Gyr')"
   ]
  },
  {
   "cell_type": "code",
   "execution_count": 12,
   "metadata": {},
   "outputs": [
    {
     "data": {
      "text/latex": [
       "$18.919127 \\; \\mathrm{Mpc}$"
      ],
      "text/plain": [
       "<Quantity 18.91912717 Mpc>"
      ]
     },
     "execution_count": 12,
     "metadata": {},
     "output_type": "execute_result"
    }
   ],
   "source": [
    "lC = tC * uS\n",
    "lC.to('Mpc')"
   ]
  },
  {
   "cell_type": "code",
   "execution_count": 11,
   "metadata": {},
   "outputs": [
    {
     "data": {
      "text/latex": [
       "$5.8378327 \\times 10^{23} \\; \\mathrm{m}$"
      ],
      "text/plain": [
       "<Quantity 5.83783266e+23 m>"
      ]
     },
     "execution_count": 11,
     "metadata": {},
     "output_type": "execute_result"
    }
   ],
   "source": [
    "lC.decompose()"
   ]
  },
  {
   "cell_type": "code",
   "execution_count": null,
   "metadata": {},
   "outputs": [],
   "source": []
  }
 ],
 "metadata": {
  "kernelspec": {
   "display_name": "Python 3",
   "language": "python",
   "name": "python3"
  },
  "language_info": {
   "codemirror_mode": {
    "name": "ipython",
    "version": 3
   },
   "file_extension": ".py",
   "mimetype": "text/x-python",
   "name": "python",
   "nbconvert_exporter": "python",
   "pygments_lexer": "ipython3",
   "version": "3.7.6"
  }
 },
 "nbformat": 4,
 "nbformat_minor": 2
}
