{
 "cells": [
  {
   "cell_type": "code",
   "execution_count": 1,
   "metadata": {},
   "outputs": [],
   "source": [
    "import numpy as np\n",
    "import matplotlib.pyplot as plt\n",
    "from astropy import constants, units\n",
    "from astropy.visualization import quantity_support"
   ]
  },
  {
   "cell_type": "code",
   "execution_count": 2,
   "metadata": {},
   "outputs": [],
   "source": [
    "D = 5.7 * units.kpc\n",
    "delta = .6 * units.arcsec\n",
    "l = 2*(D * np.sin(delta/2))"
   ]
  },
  {
   "cell_type": "code",
   "execution_count": 3,
   "metadata": {},
   "outputs": [
    {
     "data": {
      "text/latex": [
       "$0.016580628 \\; \\mathrm{pc}$"
      ],
      "text/plain": [
       "<Quantity 0.01658063 pc>"
      ]
     },
     "execution_count": 3,
     "metadata": {},
     "output_type": "execute_result"
    }
   ],
   "source": [
    "l.to('pc')"
   ]
  },
  {
   "cell_type": "code",
   "execution_count": 4,
   "metadata": {},
   "outputs": [],
   "source": [
    "import pandas as pd"
   ]
  },
  {
   "cell_type": "code",
   "execution_count": 5,
   "metadata": {},
   "outputs": [
    {
     "data": {
      "text/html": [
       "<div>\n",
       "<style scoped>\n",
       "    .dataframe tbody tr th:only-of-type {\n",
       "        vertical-align: middle;\n",
       "    }\n",
       "\n",
       "    .dataframe tbody tr th {\n",
       "        vertical-align: top;\n",
       "    }\n",
       "\n",
       "    .dataframe thead th {\n",
       "        text-align: right;\n",
       "    }\n",
       "</style>\n",
       "<table border=\"1\" class=\"dataframe\">\n",
       "  <thead>\n",
       "    <tr style=\"text-align: right;\">\n",
       "      <th></th>\n",
       "      <th>nu</th>\n",
       "      <th>Instr.</th>\n",
       "      <th>Synth</th>\n",
       "      <th>.</th>\n",
       "      <th>Beam</th>\n",
       "      <th>S_nu</th>\n",
       "      <th>dum</th>\n",
       "      <th>error</th>\n",
       "      <th>Ref.</th>\n",
       "    </tr>\n",
       "  </thead>\n",
       "  <tbody>\n",
       "    <tr>\n",
       "      <th>0</th>\n",
       "      <td>5.0</td>\n",
       "      <td>VLA</td>\n",
       "      <td>2.00</td>\n",
       "      <td>x</td>\n",
       "      <td>1.6</td>\n",
       "      <td>150</td>\n",
       "      <td>+or-</td>\n",
       "      <td>15</td>\n",
       "      <td>1</td>\n",
       "    </tr>\n",
       "    <tr>\n",
       "      <th>1</th>\n",
       "      <td>6.7</td>\n",
       "      <td>ATCA</td>\n",
       "      <td>2.00</td>\n",
       "      <td>x</td>\n",
       "      <td>~1.9</td>\n",
       "      <td>326</td>\n",
       "      <td>^a</td>\n",
       "      <td>100</td>\n",
       "      <td>2</td>\n",
       "    </tr>\n",
       "    <tr>\n",
       "      <th>2</th>\n",
       "      <td>8.3</td>\n",
       "      <td>VLA</td>\n",
       "      <td>0.90</td>\n",
       "      <td>x</td>\n",
       "      <td>0.8</td>\n",
       "      <td>297</td>\n",
       "      <td>+or-</td>\n",
       "      <td>45</td>\n",
       "      <td>3</td>\n",
       "    </tr>\n",
       "    <tr>\n",
       "      <th>3</th>\n",
       "      <td>8.3</td>\n",
       "      <td>VLA</td>\n",
       "      <td>4.90</td>\n",
       "      <td>x</td>\n",
       "      <td>2.7</td>\n",
       "      <td>300</td>\n",
       "      <td>+or-</td>\n",
       "      <td>30</td>\n",
       "      <td>4</td>\n",
       "    </tr>\n",
       "    <tr>\n",
       "      <th>4</th>\n",
       "      <td>14.7</td>\n",
       "      <td>VLA</td>\n",
       "      <td>1.50</td>\n",
       "      <td>x</td>\n",
       "      <td>1.4</td>\n",
       "      <td>494</td>\n",
       "      <td>+or-</td>\n",
       "      <td>50</td>\n",
       "      <td>9</td>\n",
       "    </tr>\n",
       "    <tr>\n",
       "      <th>5</th>\n",
       "      <td>14.7</td>\n",
       "      <td>VLA</td>\n",
       "      <td>0.60</td>\n",
       "      <td>x</td>\n",
       "      <td>0.5</td>\n",
       "      <td>543</td>\n",
       "      <td>+or-</td>\n",
       "      <td>81</td>\n",
       "      <td>3</td>\n",
       "    </tr>\n",
       "    <tr>\n",
       "      <th>6</th>\n",
       "      <td>22.4</td>\n",
       "      <td>VLA</td>\n",
       "      <td>0.30</td>\n",
       "      <td>x</td>\n",
       "      <td>0.2</td>\n",
       "      <td>980</td>\n",
       "      <td>^a,^b</td>\n",
       "      <td>200</td>\n",
       "      <td>5</td>\n",
       "    </tr>\n",
       "    <tr>\n",
       "      <th>7</th>\n",
       "      <td>22.4</td>\n",
       "      <td>VLA</td>\n",
       "      <td>0.10</td>\n",
       "      <td>x</td>\n",
       "      <td>0.1</td>\n",
       "      <td>630</td>\n",
       "      <td>+or-</td>\n",
       "      <td>63</td>\n",
       "      <td>9</td>\n",
       "    </tr>\n",
       "    <tr>\n",
       "      <th>8</th>\n",
       "      <td>43.0</td>\n",
       "      <td>VLA</td>\n",
       "      <td>1.90</td>\n",
       "      <td>x</td>\n",
       "      <td>1.4</td>\n",
       "      <td>710</td>\n",
       "      <td>+or-</td>\n",
       "      <td>70</td>\n",
       "      <td>9</td>\n",
       "    </tr>\n",
       "    <tr>\n",
       "      <th>9</th>\n",
       "      <td>43.0</td>\n",
       "      <td>VLA</td>\n",
       "      <td>0.17</td>\n",
       "      <td>x</td>\n",
       "      <td>0.13</td>\n",
       "      <td>645</td>\n",
       "      <td>+or-</td>\n",
       "      <td>65</td>\n",
       "      <td>6</td>\n",
       "    </tr>\n",
       "    <tr>\n",
       "      <th>10</th>\n",
       "      <td>231.9</td>\n",
       "      <td>SMA</td>\n",
       "      <td>1.30</td>\n",
       "      <td>x</td>\n",
       "      <td>0.8</td>\n",
       "      <td>720</td>\n",
       "      <td>^a,^c</td>\n",
       "      <td>200</td>\n",
       "      <td>7</td>\n",
       "    </tr>\n",
       "    <tr>\n",
       "      <th>11</th>\n",
       "      <td>231.9</td>\n",
       "      <td>SMA</td>\n",
       "      <td>1.30</td>\n",
       "      <td>x</td>\n",
       "      <td>0.8</td>\n",
       "      <td>890</td>\n",
       "      <td>+or-</td>\n",
       "      <td>30</td>\n",
       "      <td>8</td>\n",
       "    </tr>\n",
       "  </tbody>\n",
       "</table>\n",
       "</div>"
      ],
      "text/plain": [
       "       nu Instr.  Synth  .  Beam  S_nu    dum  error  Ref.\n",
       "0     5.0    VLA   2.00  x   1.6   150   +or-     15     1\n",
       "1     6.7   ATCA   2.00  x  ~1.9   326     ^a    100     2\n",
       "2     8.3    VLA   0.90  x   0.8   297   +or-     45     3\n",
       "3     8.3    VLA   4.90  x   2.7   300   +or-     30     4\n",
       "4    14.7    VLA   1.50  x   1.4   494   +or-     50     9\n",
       "5    14.7    VLA   0.60  x   0.5   543   +or-     81     3\n",
       "6    22.4    VLA   0.30  x   0.2   980  ^a,^b    200     5\n",
       "7    22.4    VLA   0.10  x   0.1   630   +or-     63     9\n",
       "8    43.0    VLA   1.90  x   1.4   710   +or-     70     9\n",
       "9    43.0    VLA   0.17  x  0.13   645   +or-     65     6\n",
       "10  231.9    SMA   1.30  x   0.8   720  ^a,^c    200     7\n",
       "11  231.9    SMA   1.30  x   0.8   890   +or-     30     8"
      ]
     },
     "execution_count": 5,
     "metadata": {},
     "output_type": "execute_result"
    }
   ],
   "source": [
    "flux_data = pd.read_csv('HII_flux.csv',delim_whitespace=True)  #,delimiter=\"\\t\"\n",
    "flux_data"
   ]
  },
  {
   "cell_type": "code",
   "execution_count": 6,
   "metadata": {},
   "outputs": [
    {
     "data": {
      "image/png": "[encoded data removed]",
      "text/plain": [
       "<Figure size 432x288 with 1 Axes>"
      ]
     },
     "metadata": {
      "needs_background": "light"
     },
     "output_type": "display_data"
    }
   ],
   "source": [
    "plt.scatter(flux_data['nu'],flux_data['S_nu'])\n",
    "plt.xscale('log')\n",
    "plt.yscale('log')"
   ]
  },
  {
   "cell_type": "code",
   "execution_count": 7,
   "metadata": {},
   "outputs": [],
   "source": [
    "from scipy.optimize import curve_fit"
   ]
  },
  {
   "cell_type": "code",
   "execution_count": 8,
   "metadata": {},
   "outputs": [],
   "source": [
    "def S_nu_thick(nu,a):\n",
    "    return a*nu**2\n",
    "def S_nu_thin(nu,b):\n",
    "    return b*nu**-.1"
   ]
  },
  {
   "cell_type": "code",
   "execution_count": 9,
   "metadata": {},
   "outputs": [],
   "source": [
    "aopt, acov = curve_fit(S_nu_thick,flux_data['nu'][:4],flux_data['S_nu'][:4],sigma=flux_data['error'][:4])\n",
    "bopt, bcov = curve_fit(S_nu_thin,flux_data['nu'][-6:],flux_data['S_nu'][-6:],sigma=flux_data['error'][-6:])"
   ]
  },
  {
   "cell_type": "code",
   "execution_count": 10,
   "metadata": {},
   "outputs": [
    {
     "data": {
      "text/plain": [
       "100"
      ]
     },
     "execution_count": 10,
     "metadata": {},
     "output_type": "execute_result"
    }
   ],
   "source": [
    "pd.to_numeric(flux_data['error'])[1]"
   ]
  },
  {
   "cell_type": "code",
   "execution_count": 11,
   "metadata": {},
   "outputs": [],
   "source": [
    "nu_fit = np.logspace(0.5,2.5,60000)\n",
    "fit_thick = S_nu_thick(nu_fit,aopt)\n",
    "fit_thin = S_nu_thin(nu_fit,bopt)"
   ]
  },
  {
   "cell_type": "code",
   "execution_count": 12,
   "metadata": {},
   "outputs": [
    {
     "data": {
      "text/plain": [
       "14.085669031172259"
      ]
     },
     "execution_count": 12,
     "metadata": {},
     "output_type": "execute_result"
    }
   ],
   "source": [
    "idx1 = np.argwhere(np.diff(np.sign(fit_thick-fit_thin))).flatten()\n",
    "# idx2 = np.argwhere(np.diff(np.sign(-fit_thick+fit_thin))).flatten()\n",
    "S_nu_0 = (fit_thick[idx1][0]+fit_thin[idx1][0]) /2\n",
    "nu_0 = nu_fit[idx1][0]\n",
    "nu_0"
   ]
  },
  {
   "cell_type": "code",
   "execution_count": 13,
   "metadata": {},
   "outputs": [
    {
     "data": {
      "image/png": "[encoded data removed]",
      "text/plain": [
       "<Figure size 432x288 with 1 Axes>"
      ]
     },
     "metadata": {
      "needs_background": "light"
     },
     "output_type": "display_data"
    }
   ],
   "source": [
    "plt.errorbar(flux_data['nu'],flux_data['S_nu'],yerr=flux_data['error'],fmt='o',label='Data')\n",
    "plt.xscale('log')\n",
    "plt.yscale('log')\n",
    "plt.ylim(50,3000)\n",
    "plt.minorticks_on()\n",
    "plt.grid(b=False, which='major', color='grey', linestyle='-')\n",
    "plt.grid(b=False, which='minor', color='grey', linestyle='--')\n",
    "plt.ylabel(r\"Flux density $S_{\\nu}$ (mJy)\")\n",
    "plt.xlabel(r\"Frequency $\\nu$ (GHz)\")\n",
    "plt.legend()\n",
    "plt.savefig('prob-1-plot1.pdf',bbox_inches='tight')\n",
    "plt.plot(nu_fit,fit_thick,color='g',label='Optically thick fit')\n",
    "plt.plot(nu_fit,fit_thin,color='purple',label='Optically thin fit')\n",
    "plt.axvline(nu_0,label='turn-around frequency',color='r')\n",
    "plt.text(nu_0-2,40,'{:.3f}'.format(nu_0))\n",
    "plt.legend()\n",
    "plt.savefig('prob-1-plot2.pdf',bbox_inches='tight')"
   ]
  },
  {
   "cell_type": "code",
   "execution_count": 14,
   "metadata": {},
   "outputs": [],
   "source": [
    "# %matplotlib inline"
   ]
  },
  {
   "cell_type": "code",
   "execution_count": 15,
   "metadata": {},
   "outputs": [],
   "source": [
    "fit_thick_0 = S_nu_thick(nu_0,aopt)\n",
    "fit_thin_0 = S_nu_thin(nu_0,bopt)"
   ]
  },
  {
   "cell_type": "code",
   "execution_count": 16,
   "metadata": {},
   "outputs": [
    {
     "data": {
      "text/plain": [
       "array([958.64813092])"
      ]
     },
     "execution_count": 16,
     "metadata": {},
     "output_type": "execute_result"
    }
   ],
   "source": [
    "fit_thin_0"
   ]
  },
  {
   "cell_type": "code",
   "execution_count": 17,
   "metadata": {},
   "outputs": [
    {
     "data": {
      "text/plain": [
       "array([958.64450135])"
      ]
     },
     "execution_count": 17,
     "metadata": {},
     "output_type": "execute_result"
    }
   ],
   "source": [
    "fit_thick_0"
   ]
  },
  {
   "cell_type": "code",
   "execution_count": 18,
   "metadata": {},
   "outputs": [],
   "source": [
    "T = 7000\n",
    "E_c = T**1.35 * nu_0**2.1 / (8.24 * 10**-2)"
   ]
  },
  {
   "cell_type": "code",
   "execution_count": 19,
   "metadata": {},
   "outputs": [],
   "source": [
    "E_c *= units.cm**-6 * units.pc"
   ]
  },
  {
   "cell_type": "code",
   "execution_count": 20,
   "metadata": {},
   "outputs": [
    {
     "data": {
      "text/latex": [
       "$4.8684179 \\times 10^{8} \\; \\mathrm{\\frac{pc}{cm^{6}}}$"
      ],
      "text/plain": [
       "<Quantity 4.86841789e+08 pc / cm6>"
      ]
     },
     "execution_count": 20,
     "metadata": {},
     "output_type": "execute_result"
    }
   ],
   "source": [
    "E_c"
   ]
  },
  {
   "cell_type": "code",
   "execution_count": 21,
   "metadata": {},
   "outputs": [],
   "source": [
    "n_e = np.sqrt(E_c/(l/2))"
   ]
  },
  {
   "cell_type": "code",
   "execution_count": 22,
   "metadata": {},
   "outputs": [
    {
     "data": {
      "text/latex": [
       "$242330.7 \\; \\mathrm{\\frac{1}{cm^{3}}}$"
      ],
      "text/plain": [
       "<Quantity 242330.69963117 1 / cm3>"
      ]
     },
     "execution_count": 22,
     "metadata": {},
     "output_type": "execute_result"
    }
   ],
   "source": [
    "n_e.to(units.cm**-3)"
   ]
  },
  {
   "cell_type": "code",
   "execution_count": 23,
   "metadata": {},
   "outputs": [
    {
     "data": {
      "text/latex": [
       "$2.2546102 \\times 10^{-8} \\; \\mathrm{pc}$"
      ],
      "text/plain": [
       "<Quantity 2.25461015e-08 pc>"
      ]
     },
     "execution_count": 23,
     "metadata": {},
     "output_type": "execute_result"
    }
   ],
   "source": [
    "constants.R_sun.to('pc')"
   ]
  },
  {
   "cell_type": "code",
   "execution_count": 24,
   "metadata": {},
   "outputs": [
    {
     "data": {
      "text/latex": [
       "$1.699267 \\times 10^{55} \\; \\mathrm{}$"
      ],
      "text/plain": [
       "<Quantity 1.69926696e+55>"
      ]
     },
     "execution_count": 24,
     "metadata": {},
     "output_type": "execute_result"
    }
   ],
   "source": [
    "V = 4/3*np.pi*(l/2)**3*n_e\n",
    "V.decompose()"
   ]
  },
  {
   "cell_type": "code",
   "execution_count": null,
   "metadata": {},
   "outputs": [],
   "source": []
  },
  {
   "cell_type": "code",
   "execution_count": null,
   "metadata": {},
   "outputs": [],
   "source": []
  }
 ],
 "metadata": {
  "kernelspec": {
   "display_name": "Python 3",
   "language": "python",
   "name": "python3"
  },
  "language_info": {
   "codemirror_mode": {
    "name": "ipython",
    "version": 3
   },
   "file_extension": ".py",
   "mimetype": "text/x-python",
   "name": "python",
   "nbconvert_exporter": "python",
   "pygments_lexer": "ipython3",
   "version": "3.7.6"
  }
 },
 "nbformat": 4,
 "nbformat_minor": 2
}
